{
 "cells": [
  {
   "cell_type": "markdown",
   "id": "be02a957-7133-4d02-818e-fedeb3cecb05",
   "metadata": {},
   "source": [
    "# Project 10 -- David Martin Calalang"
   ]
  },
  {
   "cell_type": "markdown",
   "id": "a1228853-dd19-4ab2-89e0-0394d7d72de3",
   "metadata": {},
   "source": [
    "*Consulted videos on The Examples Book"
   ]
  },
  {
   "cell_type": "markdown",
   "id": "6180e742-8e39-4698-98ff-5b00c8cf8ea0",
   "metadata": {},
   "source": [
    "## Question 1"
   ]
  },
  {
   "cell_type": "code",
   "execution_count": 3,
   "id": "07945c77-330c-49ce-a127-ac24d8f35eca",
   "metadata": {},
   "outputs": [],
   "source": [
    "%sql sqlite:////anvil/projects/tdm/data/lahman/lahman.db"
   ]
  },
  {
   "cell_type": "markdown",
   "id": "c1e0a179-173d-4143-a01b-d418b2a98294",
   "metadata": {},
   "source": [
    "### Part 1A: Count players from years 2018 to 2022"
   ]
  },
  {
   "cell_type": "code",
   "execution_count": 7,
   "id": "5372ada0-298b-4080-93c1-eb6c090e38d1",
   "metadata": {},
   "outputs": [
    {
     "name": "stdout",
     "output_type": "stream",
     "text": [
      " * sqlite:////anvil/projects/tdm/data/lahman/lahman.db\n",
      "Done.\n"
     ]
    },
    {
     "data": {
      "text/html": [
       "<table>\n",
       "    <thead>\n",
       "        <tr>\n",
       "            <th>year</th>\n",
       "            <th>num_of_players</th>\n",
       "        </tr>\n",
       "    </thead>\n",
       "    <tbody>\n",
       "        <tr>\n",
       "            <td>2021</td>\n",
       "            <td>1706</td>\n",
       "        </tr>\n",
       "        <tr>\n",
       "            <td>2022</td>\n",
       "            <td>1683</td>\n",
       "        </tr>\n",
       "        <tr>\n",
       "            <td>2019</td>\n",
       "            <td>1567</td>\n",
       "        </tr>\n",
       "        <tr>\n",
       "            <td>2018</td>\n",
       "            <td>1533</td>\n",
       "        </tr>\n",
       "        <tr>\n",
       "            <td>2020</td>\n",
       "            <td>1360</td>\n",
       "        </tr>\n",
       "    </tbody>\n",
       "</table>"
      ],
      "text/plain": [
       "[(2021, 1706), (2022, 1683), (2019, 1567), (2018, 1533), (2020, 1360)]"
      ]
     },
     "execution_count": 7,
     "metadata": {},
     "output_type": "execute_result"
    }
   ],
   "source": [
    "%%sql\n",
    "SELECT yearID AS year, COUNT(*) AS num_of_players FROM appearances WHERE yearID >= 2018 AND yearID <= 2022 GROUP BY yearID ORDER BY num_of_players DESC;"
   ]
  },
  {
   "cell_type": "markdown",
   "id": "fc601975-35ed-4680-a4e1-0273ee3cc047",
   "metadata": {},
   "source": [
    "## Question 2"
   ]
  },
  {
   "cell_type": "code",
   "execution_count": 8,
   "id": "9a439db3-a66e-4e37-afe7-eb6f9daa3bac",
   "metadata": {},
   "outputs": [
    {
     "name": "stdout",
     "output_type": "stream",
     "text": [
      " * sqlite:////anvil/projects/tdm/data/lahman/lahman.db\n",
      "Done.\n"
     ]
    },
    {
     "data": {
      "text/html": [
       "<table>\n",
       "    <thead>\n",
       "        <tr>\n",
       "            <th>yearID</th>\n",
       "            <th>lgID</th>\n",
       "            <th>teamID</th>\n",
       "            <th>franchID</th>\n",
       "            <th>divID</th>\n",
       "            <th>teamRank</th>\n",
       "            <th>G</th>\n",
       "            <th>Ghome</th>\n",
       "            <th>W</th>\n",
       "            <th>L</th>\n",
       "            <th>DivWin</th>\n",
       "            <th>WCWin</th>\n",
       "            <th>LgWin</th>\n",
       "            <th>WSWin</th>\n",
       "            <th>R</th>\n",
       "            <th>AB</th>\n",
       "            <th>H</th>\n",
       "            <th>2B</th>\n",
       "            <th>3B</th>\n",
       "            <th>HR</th>\n",
       "            <th>BB</th>\n",
       "            <th>SO</th>\n",
       "            <th>SB</th>\n",
       "            <th>CS</th>\n",
       "            <th>HBP</th>\n",
       "            <th>SF</th>\n",
       "            <th>RA</th>\n",
       "            <th>ER</th>\n",
       "            <th>ERA</th>\n",
       "            <th>CG</th>\n",
       "            <th>SHO</th>\n",
       "            <th>SV</th>\n",
       "            <th>IPouts</th>\n",
       "            <th>HA</th>\n",
       "            <th>HRA</th>\n",
       "            <th>BBA</th>\n",
       "            <th>SOA</th>\n",
       "            <th>E</th>\n",
       "            <th>DP</th>\n",
       "            <th>FP</th>\n",
       "            <th>name</th>\n",
       "            <th>park</th>\n",
       "            <th>attendance</th>\n",
       "            <th>BPF</th>\n",
       "            <th>PPF</th>\n",
       "            <th>teamIDBR</th>\n",
       "            <th>teamIDlahman45</th>\n",
       "            <th>teamIDretro</th>\n",
       "        </tr>\n",
       "    </thead>\n",
       "    <tbody>\n",
       "        <tr>\n",
       "            <td>1871</td>\n",
       "            <td>NA</td>\n",
       "            <td>BS1</td>\n",
       "            <td>BNA</td>\n",
       "            <td></td>\n",
       "            <td>3</td>\n",
       "            <td>31</td>\n",
       "            <td></td>\n",
       "            <td>20</td>\n",
       "            <td>10</td>\n",
       "            <td></td>\n",
       "            <td></td>\n",
       "            <td>N</td>\n",
       "            <td></td>\n",
       "            <td>401</td>\n",
       "            <td>1372</td>\n",
       "            <td>426</td>\n",
       "            <td>70</td>\n",
       "            <td>37</td>\n",
       "            <td>3</td>\n",
       "            <td>60</td>\n",
       "            <td>19</td>\n",
       "            <td>73</td>\n",
       "            <td>16</td>\n",
       "            <td></td>\n",
       "            <td></td>\n",
       "            <td>303</td>\n",
       "            <td>109</td>\n",
       "            <td>3.55</td>\n",
       "            <td>22</td>\n",
       "            <td>1</td>\n",
       "            <td>3</td>\n",
       "            <td>828</td>\n",
       "            <td>367</td>\n",
       "            <td>2</td>\n",
       "            <td>42</td>\n",
       "            <td>23</td>\n",
       "            <td>243</td>\n",
       "            <td>24</td>\n",
       "            <td>0.834</td>\n",
       "            <td>Boston Red Stockings</td>\n",
       "            <td>South End Grounds I</td>\n",
       "            <td></td>\n",
       "            <td>103</td>\n",
       "            <td>98</td>\n",
       "            <td>BOS</td>\n",
       "            <td>BS1</td>\n",
       "            <td>BS1</td>\n",
       "        </tr>\n",
       "        <tr>\n",
       "            <td>1871</td>\n",
       "            <td>NA</td>\n",
       "            <td>CH1</td>\n",
       "            <td>CNA</td>\n",
       "            <td></td>\n",
       "            <td>2</td>\n",
       "            <td>28</td>\n",
       "            <td></td>\n",
       "            <td>19</td>\n",
       "            <td>9</td>\n",
       "            <td></td>\n",
       "            <td></td>\n",
       "            <td>N</td>\n",
       "            <td></td>\n",
       "            <td>302</td>\n",
       "            <td>1196</td>\n",
       "            <td>323</td>\n",
       "            <td>52</td>\n",
       "            <td>21</td>\n",
       "            <td>10</td>\n",
       "            <td>60</td>\n",
       "            <td>22</td>\n",
       "            <td>69</td>\n",
       "            <td>21</td>\n",
       "            <td></td>\n",
       "            <td></td>\n",
       "            <td>241</td>\n",
       "            <td>77</td>\n",
       "            <td>2.76</td>\n",
       "            <td>25</td>\n",
       "            <td>0</td>\n",
       "            <td>1</td>\n",
       "            <td>753</td>\n",
       "            <td>308</td>\n",
       "            <td>6</td>\n",
       "            <td>28</td>\n",
       "            <td>22</td>\n",
       "            <td>229</td>\n",
       "            <td>16</td>\n",
       "            <td>0.829</td>\n",
       "            <td>Chicago White Stockings</td>\n",
       "            <td>Union Base-Ball Grounds</td>\n",
       "            <td></td>\n",
       "            <td>104</td>\n",
       "            <td>102</td>\n",
       "            <td>CHI</td>\n",
       "            <td>CH1</td>\n",
       "            <td>CH1</td>\n",
       "        </tr>\n",
       "        <tr>\n",
       "            <td>1871</td>\n",
       "            <td>NA</td>\n",
       "            <td>CL1</td>\n",
       "            <td>CFC</td>\n",
       "            <td></td>\n",
       "            <td>8</td>\n",
       "            <td>29</td>\n",
       "            <td></td>\n",
       "            <td>10</td>\n",
       "            <td>19</td>\n",
       "            <td></td>\n",
       "            <td></td>\n",
       "            <td>N</td>\n",
       "            <td></td>\n",
       "            <td>249</td>\n",
       "            <td>1186</td>\n",
       "            <td>328</td>\n",
       "            <td>35</td>\n",
       "            <td>40</td>\n",
       "            <td>7</td>\n",
       "            <td>26</td>\n",
       "            <td>25</td>\n",
       "            <td>18</td>\n",
       "            <td>8</td>\n",
       "            <td></td>\n",
       "            <td></td>\n",
       "            <td>341</td>\n",
       "            <td>116</td>\n",
       "            <td>4.11</td>\n",
       "            <td>23</td>\n",
       "            <td>0</td>\n",
       "            <td>0</td>\n",
       "            <td>762</td>\n",
       "            <td>346</td>\n",
       "            <td>13</td>\n",
       "            <td>53</td>\n",
       "            <td>34</td>\n",
       "            <td>234</td>\n",
       "            <td>15</td>\n",
       "            <td>0.818</td>\n",
       "            <td>Cleveland Forest Citys</td>\n",
       "            <td>National Association Grounds</td>\n",
       "            <td></td>\n",
       "            <td>96</td>\n",
       "            <td>100</td>\n",
       "            <td>CLE</td>\n",
       "            <td>CL1</td>\n",
       "            <td>CL1</td>\n",
       "        </tr>\n",
       "    </tbody>\n",
       "</table>"
      ],
      "text/plain": [
       "[(1871, 'NA', 'BS1', 'BNA', '', 3, 31, '', 20, 10, '', '', 'N', '', 401, 1372, 426, 70, 37, 3, 60, 19, 73, 16, '', '', 303, 109, 3.55, 22, 1, 3, 828, 367, 2, 42, 23, 243, 24, 0.834, 'Boston Red Stockings', 'South End Grounds I', '', 103, 98, 'BOS', 'BS1', 'BS1'),\n",
       " (1871, 'NA', 'CH1', 'CNA', '', 2, 28, '', 19, 9, '', '', 'N', '', 302, 1196, 323, 52, 21, 10, 60, 22, 69, 21, '', '', 241, 77, 2.76, 25, 0, 1, 753, 308, 6, 28, 22, 229, 16, 0.829, 'Chicago White Stockings', 'Union Base-Ball Grounds', '', 104, 102, 'CHI', 'CH1', 'CH1'),\n",
       " (1871, 'NA', 'CL1', 'CFC', '', 8, 29, '', 10, 19, '', '', 'N', '', 249, 1186, 328, 35, 40, 7, 26, 25, 18, 8, '', '', 341, 116, 4.11, 23, 0, 0, 762, 346, 13, 53, 34, 234, 15, 0.818, 'Cleveland Forest Citys', 'National Association Grounds', '', 96, 100, 'CLE', 'CL1', 'CL1')]"
      ]
     },
     "execution_count": 8,
     "metadata": {},
     "output_type": "execute_result"
    }
   ],
   "source": [
    "%%sql\n",
    "SELECT * FROM teams LIMIT 3;"
   ]
  },
  {
   "cell_type": "markdown",
   "id": "b52ab6a3-7500-4fa5-a3df-ab1058854dbc",
   "metadata": {},
   "source": [
    "### Part 2A: average attendance for each team in the year 2022"
   ]
  },
  {
   "cell_type": "code",
   "execution_count": 9,
   "id": "e6565515-b94a-446b-ac12-353cc391e86b",
   "metadata": {},
   "outputs": [
    {
     "name": "stdout",
     "output_type": "stream",
     "text": [
      " * sqlite:////anvil/projects/tdm/data/lahman/lahman.db\n",
      "Done.\n"
     ]
    },
    {
     "data": {
      "text/html": [
       "<table>\n",
       "    <thead>\n",
       "        <tr>\n",
       "            <th>teamID</th>\n",
       "            <th>AVG(attendance)</th>\n",
       "        </tr>\n",
       "    </thead>\n",
       "    <tbody>\n",
       "        <tr>\n",
       "            <td>ARI</td>\n",
       "            <td>1605199.0</td>\n",
       "        </tr>\n",
       "        <tr>\n",
       "            <td>ATL</td>\n",
       "            <td>3129931.0</td>\n",
       "        </tr>\n",
       "        <tr>\n",
       "            <td>BAL</td>\n",
       "            <td>1368367.0</td>\n",
       "        </tr>\n",
       "        <tr>\n",
       "            <td>BOS</td>\n",
       "            <td>2625089.0</td>\n",
       "        </tr>\n",
       "        <tr>\n",
       "            <td>CHA</td>\n",
       "            <td>2009359.0</td>\n",
       "        </tr>\n",
       "        <tr>\n",
       "            <td>CHN</td>\n",
       "            <td>2616780.0</td>\n",
       "        </tr>\n",
       "        <tr>\n",
       "            <td>CIN</td>\n",
       "            <td>1395770.0</td>\n",
       "        </tr>\n",
       "        <tr>\n",
       "            <td>CLE</td>\n",
       "            <td>1295870.0</td>\n",
       "        </tr>\n",
       "        <tr>\n",
       "            <td>COL</td>\n",
       "            <td>2597428.0</td>\n",
       "        </tr>\n",
       "        <tr>\n",
       "            <td>DET</td>\n",
       "            <td>1575544.0</td>\n",
       "        </tr>\n",
       "        <tr>\n",
       "            <td>HOU</td>\n",
       "            <td>2688998.0</td>\n",
       "        </tr>\n",
       "        <tr>\n",
       "            <td>KCA</td>\n",
       "            <td>1277686.0</td>\n",
       "        </tr>\n",
       "        <tr>\n",
       "            <td>LAA</td>\n",
       "            <td>2457461.0</td>\n",
       "        </tr>\n",
       "        <tr>\n",
       "            <td>LAN</td>\n",
       "            <td>3861408.0</td>\n",
       "        </tr>\n",
       "        <tr>\n",
       "            <td>MIA</td>\n",
       "            <td>907487.0</td>\n",
       "        </tr>\n",
       "        <tr>\n",
       "            <td>MIL</td>\n",
       "            <td>2422420.0</td>\n",
       "        </tr>\n",
       "        <tr>\n",
       "            <td>MIN</td>\n",
       "            <td>1801128.0</td>\n",
       "        </tr>\n",
       "        <tr>\n",
       "            <td>NYA</td>\n",
       "            <td>3136207.0</td>\n",
       "        </tr>\n",
       "        <tr>\n",
       "            <td>NYN</td>\n",
       "            <td>2564737.0</td>\n",
       "        </tr>\n",
       "        <tr>\n",
       "            <td>OAK</td>\n",
       "            <td>787902.0</td>\n",
       "        </tr>\n",
       "        <tr>\n",
       "            <td>PHI</td>\n",
       "            <td>2276736.0</td>\n",
       "        </tr>\n",
       "        <tr>\n",
       "            <td>PIT</td>\n",
       "            <td>1257458.0</td>\n",
       "        </tr>\n",
       "        <tr>\n",
       "            <td>SDN</td>\n",
       "            <td>2987470.0</td>\n",
       "        </tr>\n",
       "        <tr>\n",
       "            <td>SEA</td>\n",
       "            <td>2287267.0</td>\n",
       "        </tr>\n",
       "        <tr>\n",
       "            <td>SFN</td>\n",
       "            <td>2482686.0</td>\n",
       "        </tr>\n",
       "        <tr>\n",
       "            <td>SLN</td>\n",
       "            <td>3320551.0</td>\n",
       "        </tr>\n",
       "        <tr>\n",
       "            <td>TBA</td>\n",
       "            <td>1128127.0</td>\n",
       "        </tr>\n",
       "        <tr>\n",
       "            <td>TEX</td>\n",
       "            <td>2011361.0</td>\n",
       "        </tr>\n",
       "        <tr>\n",
       "            <td>TOR</td>\n",
       "            <td>2653830.0</td>\n",
       "        </tr>\n",
       "        <tr>\n",
       "            <td>WAS</td>\n",
       "            <td>2026401.0</td>\n",
       "        </tr>\n",
       "    </tbody>\n",
       "</table>"
      ],
      "text/plain": [
       "[('ARI', 1605199.0),\n",
       " ('ATL', 3129931.0),\n",
       " ('BAL', 1368367.0),\n",
       " ('BOS', 2625089.0),\n",
       " ('CHA', 2009359.0),\n",
       " ('CHN', 2616780.0),\n",
       " ('CIN', 1395770.0),\n",
       " ('CLE', 1295870.0),\n",
       " ('COL', 2597428.0),\n",
       " ('DET', 1575544.0),\n",
       " ('HOU', 2688998.0),\n",
       " ('KCA', 1277686.0),\n",
       " ('LAA', 2457461.0),\n",
       " ('LAN', 3861408.0),\n",
       " ('MIA', 907487.0),\n",
       " ('MIL', 2422420.0),\n",
       " ('MIN', 1801128.0),\n",
       " ('NYA', 3136207.0),\n",
       " ('NYN', 2564737.0),\n",
       " ('OAK', 787902.0),\n",
       " ('PHI', 2276736.0),\n",
       " ('PIT', 1257458.0),\n",
       " ('SDN', 2987470.0),\n",
       " ('SEA', 2287267.0),\n",
       " ('SFN', 2482686.0),\n",
       " ('SLN', 3320551.0),\n",
       " ('TBA', 1128127.0),\n",
       " ('TEX', 2011361.0),\n",
       " ('TOR', 2653830.0),\n",
       " ('WAS', 2026401.0)]"
      ]
     },
     "execution_count": 9,
     "metadata": {},
     "output_type": "execute_result"
    }
   ],
   "source": [
    "%%sql\n",
    "SELECT teamID, AVG(attendance) AS team_avg FROM teams WHERE yearID = 2022 GROUP BY teamID;"
   ]
  },
  {
   "cell_type": "markdown",
   "id": "b7c4d589-83d5-49e2-9e83-22105d42b9aa",
   "metadata": {},
   "source": [
    "### Part 2B: Firstly, find average attendance among all teams in year 2022, then creating a subquery to only show teams in part 2A that are above this average team attendance."
   ]
  },
  {
   "cell_type": "code",
   "execution_count": 11,
   "id": "bb72bf7f-9172-4fdf-b397-88c2aa7fe170",
   "metadata": {},
   "outputs": [
    {
     "name": "stdout",
     "output_type": "stream",
     "text": [
      " * sqlite:////anvil/projects/tdm/data/lahman/lahman.db\n",
      "Done.\n"
     ]
    },
    {
     "data": {
      "text/html": [
       "<table>\n",
       "    <thead>\n",
       "        <tr>\n",
       "            <th>total_avg</th>\n",
       "        </tr>\n",
       "    </thead>\n",
       "    <tbody>\n",
       "        <tr>\n",
       "            <td>2151888.6</td>\n",
       "        </tr>\n",
       "    </tbody>\n",
       "</table>"
      ],
      "text/plain": [
       "[(2151888.6,)]"
      ]
     },
     "execution_count": 11,
     "metadata": {},
     "output_type": "execute_result"
    }
   ],
   "source": [
    "%%sql\n",
    "SELECT AVG(attendance) AS total_avg FROM teams WHERE yearID = 2022;"
   ]
  },
  {
   "cell_type": "code",
   "execution_count": 21,
   "id": "7bafcc60-fb3d-4fde-a32e-da271f7bf144",
   "metadata": {},
   "outputs": [
    {
     "name": "stdout",
     "output_type": "stream",
     "text": [
      " * sqlite:////anvil/projects/tdm/data/lahman/lahman.db\n",
      "Done.\n"
     ]
    },
    {
     "data": {
      "text/html": [
       "<table>\n",
       "    <thead>\n",
       "        <tr>\n",
       "            <th>teamID</th>\n",
       "            <th>team_avg</th>\n",
       "            <th>total_avg</th>\n",
       "        </tr>\n",
       "    </thead>\n",
       "    <tbody>\n",
       "        <tr>\n",
       "            <td>LAN</td>\n",
       "            <td>3861408.0</td>\n",
       "            <td>2151888.6</td>\n",
       "        </tr>\n",
       "        <tr>\n",
       "            <td>SLN</td>\n",
       "            <td>3320551.0</td>\n",
       "            <td>2151888.6</td>\n",
       "        </tr>\n",
       "        <tr>\n",
       "            <td>NYA</td>\n",
       "            <td>3136207.0</td>\n",
       "            <td>2151888.6</td>\n",
       "        </tr>\n",
       "        <tr>\n",
       "            <td>ATL</td>\n",
       "            <td>3129931.0</td>\n",
       "            <td>2151888.6</td>\n",
       "        </tr>\n",
       "        <tr>\n",
       "            <td>SDN</td>\n",
       "            <td>2987470.0</td>\n",
       "            <td>2151888.6</td>\n",
       "        </tr>\n",
       "        <tr>\n",
       "            <td>HOU</td>\n",
       "            <td>2688998.0</td>\n",
       "            <td>2151888.6</td>\n",
       "        </tr>\n",
       "        <tr>\n",
       "            <td>TOR</td>\n",
       "            <td>2653830.0</td>\n",
       "            <td>2151888.6</td>\n",
       "        </tr>\n",
       "        <tr>\n",
       "            <td>BOS</td>\n",
       "            <td>2625089.0</td>\n",
       "            <td>2151888.6</td>\n",
       "        </tr>\n",
       "        <tr>\n",
       "            <td>CHN</td>\n",
       "            <td>2616780.0</td>\n",
       "            <td>2151888.6</td>\n",
       "        </tr>\n",
       "        <tr>\n",
       "            <td>COL</td>\n",
       "            <td>2597428.0</td>\n",
       "            <td>2151888.6</td>\n",
       "        </tr>\n",
       "        <tr>\n",
       "            <td>NYN</td>\n",
       "            <td>2564737.0</td>\n",
       "            <td>2151888.6</td>\n",
       "        </tr>\n",
       "        <tr>\n",
       "            <td>SFN</td>\n",
       "            <td>2482686.0</td>\n",
       "            <td>2151888.6</td>\n",
       "        </tr>\n",
       "        <tr>\n",
       "            <td>LAA</td>\n",
       "            <td>2457461.0</td>\n",
       "            <td>2151888.6</td>\n",
       "        </tr>\n",
       "        <tr>\n",
       "            <td>MIL</td>\n",
       "            <td>2422420.0</td>\n",
       "            <td>2151888.6</td>\n",
       "        </tr>\n",
       "        <tr>\n",
       "            <td>SEA</td>\n",
       "            <td>2287267.0</td>\n",
       "            <td>2151888.6</td>\n",
       "        </tr>\n",
       "        <tr>\n",
       "            <td>PHI</td>\n",
       "            <td>2276736.0</td>\n",
       "            <td>2151888.6</td>\n",
       "        </tr>\n",
       "    </tbody>\n",
       "</table>"
      ],
      "text/plain": [
       "[('LAN', 3861408.0, 2151888.6),\n",
       " ('SLN', 3320551.0, 2151888.6),\n",
       " ('NYA', 3136207.0, 2151888.6),\n",
       " ('ATL', 3129931.0, 2151888.6),\n",
       " ('SDN', 2987470.0, 2151888.6),\n",
       " ('HOU', 2688998.0, 2151888.6),\n",
       " ('TOR', 2653830.0, 2151888.6),\n",
       " ('BOS', 2625089.0, 2151888.6),\n",
       " ('CHN', 2616780.0, 2151888.6),\n",
       " ('COL', 2597428.0, 2151888.6),\n",
       " ('NYN', 2564737.0, 2151888.6),\n",
       " ('SFN', 2482686.0, 2151888.6),\n",
       " ('LAA', 2457461.0, 2151888.6),\n",
       " ('MIL', 2422420.0, 2151888.6),\n",
       " ('SEA', 2287267.0, 2151888.6),\n",
       " ('PHI', 2276736.0, 2151888.6)]"
      ]
     },
     "execution_count": 21,
     "metadata": {},
     "output_type": "execute_result"
    }
   ],
   "source": [
    "%%sql\n",
    "SELECT orig.teamID, AVG(orig.attendance) AS team_avg, sub.total_avg FROM teams AS orig \n",
    "JOIN (SELECT AVG(attendance) AS total_avg FROM teams WHERE yearID = 2022) AS sub\n",
    "WHERE (orig.yearID = 2022) GROUP BY orig.teamID\n",
    "HAVING (team_avg >= sub.total_avg)\n",
    "ORDER BY team_avg DESC;"
   ]
  },
  {
   "cell_type": "markdown",
   "id": "8e586edd-ff26-4ce2-8f6b-2424b26f2929",
   "metadata": {},
   "source": [
    "## Question 3"
   ]
  },
  {
   "cell_type": "markdown",
   "id": "35ae8d07-5b04-40fb-8933-a87ecb142ce9",
   "metadata": {},
   "source": [
    "### Part 3A: Winning percentage for year 2022 of team LAN"
   ]
  },
  {
   "cell_type": "code",
   "execution_count": 36,
   "id": "ecbb73fc-50aa-4554-a659-1f5677779410",
   "metadata": {},
   "outputs": [
    {
     "name": "stdout",
     "output_type": "stream",
     "text": [
      " * sqlite:////anvil/projects/tdm/data/lahman/lahman.db\n",
      "Done.\n"
     ]
    },
    {
     "data": {
      "text/html": [
       "<table>\n",
       "    <thead>\n",
       "        <tr>\n",
       "            <th>teamID</th>\n",
       "            <th>winning_per</th>\n",
       "        </tr>\n",
       "    </thead>\n",
       "    <tbody>\n",
       "        <tr>\n",
       "            <td>LAN</td>\n",
       "            <td>0.6851851851851852</td>\n",
       "        </tr>\n",
       "    </tbody>\n",
       "</table>"
      ],
      "text/plain": [
       "[('LAN', 0.6851851851851852)]"
      ]
     },
     "execution_count": 36,
     "metadata": {},
     "output_type": "execute_result"
    }
   ],
   "source": [
    "%%sql\n",
    "SELECT teamID, CAST((CAST(W AS REAL)/(CAST(W+L AS REAL))) AS REAL) AS winning_per FROM teams WHERE yearID = 2022 AND teamID = 'LAN';"
   ]
  },
  {
   "cell_type": "markdown",
   "id": "da22f29c-d245-4d2b-9fc1-ca14cb6087d9",
   "metadata": {},
   "source": [
    "## Question 4"
   ]
  },
  {
   "cell_type": "markdown",
   "id": "7ca73e62-b766-4f05-8959-3e75f7eb0a71",
   "metadata": {},
   "source": [
    "### Part 4A: Only printing teams between 2012 and 2022 that have a winning percentage greater that 0.55"
   ]
  },
  {
   "cell_type": "code",
   "execution_count": 62,
   "id": "e6fa3cc1-0d16-40c8-a428-dc4c80fd227f",
   "metadata": {},
   "outputs": [
    {
     "name": "stdout",
     "output_type": "stream",
     "text": [
      " * sqlite:////anvil/projects/tdm/data/lahman/lahman.db\n",
      "Done.\n"
     ]
    },
    {
     "data": {
      "text/html": [
       "<table>\n",
       "    <thead>\n",
       "        <tr>\n",
       "            <th>teamID</th>\n",
       "            <th>total_wins</th>\n",
       "            <th>total_losses</th>\n",
       "            <th>winning_per</th>\n",
       "        </tr>\n",
       "    </thead>\n",
       "    <tbody>\n",
       "        <tr>\n",
       "            <td>LAN</td>\n",
       "            <td>1017</td>\n",
       "            <td>664</td>\n",
       "            <td>0.6049970255800119</td>\n",
       "        </tr>\n",
       "        <tr>\n",
       "            <td>NYA</td>\n",
       "            <td>953</td>\n",
       "            <td>727</td>\n",
       "            <td>0.5672619047619047</td>\n",
       "        </tr>\n",
       "        <tr>\n",
       "            <td>SLN</td>\n",
       "            <td>936</td>\n",
       "            <td>742</td>\n",
       "            <td>0.5578069129916567</td>\n",
       "        </tr>\n",
       "    </tbody>\n",
       "</table>"
      ],
      "text/plain": [
       "[('LAN', 1017, 664, 0.6049970255800119),\n",
       " ('NYA', 953, 727, 0.5672619047619047),\n",
       " ('SLN', 936, 742, 0.5578069129916567)]"
      ]
     },
     "execution_count": 62,
     "metadata": {},
     "output_type": "execute_result"
    }
   ],
   "source": [
    "%%sql\n",
    "SELECT teamID, SUM(W) AS total_wins, SUM(L) AS total_losses, SUM(W) * 1.0 / (SUM(W) + SUM(L)) AS winning_per FROM teams \n",
    "WHERE yearID BETWEEN 2012 and 2022\n",
    "GROUP BY teamID\n",
    "HAVING winning_per > 0.55\n",
    "ORDER BY winning_per DESC;"
   ]
  },
  {
   "cell_type": "markdown",
   "id": "e3e8722e-0962-4ae7-825d-47f65f27b5d1",
   "metadata": {
    "tags": []
   },
   "source": [
    "## Question 5"
   ]
  },
  {
   "cell_type": "markdown",
   "id": "6029a898-3296-4596-85f5-90dd4905229d",
   "metadata": {},
   "source": [
    "### Part 5A: Finding the players that have had at least 20 all star appearances."
   ]
  },
  {
   "cell_type": "code",
   "execution_count": 64,
   "id": "82e4cc96-28e7-477c-a556-13eb789cd00f",
   "metadata": {},
   "outputs": [
    {
     "name": "stdout",
     "output_type": "stream",
     "text": [
      " * sqlite:////anvil/projects/tdm/data/lahman/lahman.db\n",
      "Done.\n"
     ]
    },
    {
     "data": {
      "text/html": [
       "<table>\n",
       "    <thead>\n",
       "        <tr>\n",
       "            <th>playerID</th>\n",
       "            <th>appearances</th>\n",
       "        </tr>\n",
       "    </thead>\n",
       "    <tbody>\n",
       "        <tr>\n",
       "            <td>mayswi01</td>\n",
       "            <td>26</td>\n",
       "        </tr>\n",
       "        <tr>\n",
       "            <td>musiast01</td>\n",
       "            <td>24</td>\n",
       "        </tr>\n",
       "        <tr>\n",
       "            <td>aaronha01</td>\n",
       "            <td>24</td>\n",
       "        </tr>\n",
       "    </tbody>\n",
       "</table>"
      ],
      "text/plain": [
       "[('mayswi01', 26), ('musiast01', 24), ('aaronha01', 24)]"
      ]
     },
     "execution_count": 64,
     "metadata": {},
     "output_type": "execute_result"
    }
   ],
   "source": [
    "%%sql\n",
    "SELECT playerID, COUNT(playerID) as appearances FROM allstarfull\n",
    "GROUP BY playerID \n",
    "HAVING appearances >= 20\n",
    "ORDER BY appearances DESC;"
   ]
  },
  {
   "cell_type": "markdown",
   "id": "0e0afb79-480f-4f3f-8106-1217134ffc2f",
   "metadata": {},
   "source": [
    "### Part 5B: Custom query, uses a subquery that finds the average number of homeruns across all players in the batting dataset from the year 2022, to only output players in the year 2022 that have an average number of homeruns greater than or equal to the league average. Output limited to 5 as the output is quite large."
   ]
  },
  {
   "cell_type": "code",
   "execution_count": 88,
   "id": "c9ff65b8-c324-4ff4-9ae9-ac4d85f4e7eb",
   "metadata": {},
   "outputs": [
    {
     "name": "stdout",
     "output_type": "stream",
     "text": [
      " * sqlite:////anvil/projects/tdm/data/lahman/lahman.db\n",
      "Done.\n"
     ]
    },
    {
     "data": {
      "text/html": [
       "<table>\n",
       "    <thead>\n",
       "        <tr>\n",
       "            <th>playerID</th>\n",
       "            <th>player_avg</th>\n",
       "            <th>avg_hr</th>\n",
       "        </tr>\n",
       "    </thead>\n",
       "    <tbody>\n",
       "        <tr>\n",
       "            <td>judgeaa01</td>\n",
       "            <td>62.0</td>\n",
       "            <td>3.0931198102016606</td>\n",
       "        </tr>\n",
       "        <tr>\n",
       "            <td>schwaky01</td>\n",
       "            <td>46.0</td>\n",
       "            <td>3.0931198102016606</td>\n",
       "        </tr>\n",
       "        <tr>\n",
       "            <td>troutmi01</td>\n",
       "            <td>40.0</td>\n",
       "            <td>3.0931198102016606</td>\n",
       "        </tr>\n",
       "        <tr>\n",
       "            <td>alonspe01</td>\n",
       "            <td>40.0</td>\n",
       "            <td>3.0931198102016606</td>\n",
       "        </tr>\n",
       "        <tr>\n",
       "            <td>rileyau01</td>\n",
       "            <td>38.0</td>\n",
       "            <td>3.0931198102016606</td>\n",
       "        </tr>\n",
       "    </tbody>\n",
       "</table>"
      ],
      "text/plain": [
       "[('judgeaa01', 62.0, 3.0931198102016606),\n",
       " ('schwaky01', 46.0, 3.0931198102016606),\n",
       " ('troutmi01', 40.0, 3.0931198102016606),\n",
       " ('alonspe01', 40.0, 3.0931198102016606),\n",
       " ('rileyau01', 38.0, 3.0931198102016606)]"
      ]
     },
     "execution_count": 88,
     "metadata": {},
     "output_type": "execute_result"
    }
   ],
   "source": [
    "%%sql\n",
    "SELECT b.playerID, AVG(b.HR) AS player_avg, sub.avg_hr FROM batting AS b\n",
    "JOIN (SELECT AVG(HR) AS avg_hr FROM batting WHERE yearID = 2022) AS sub \n",
    "WHERE yearID = 2022\n",
    "GROUP BY b.playerID\n",
    "HAVING (player_avg >= sub.avg_hr)\n",
    "ORDER BY player_avg DESC\n",
    "LIMIT 5;"
   ]
  },
  {
   "cell_type": "markdown",
   "id": "f76442d6-d02e-4f26-b9d6-c3183e1d6929",
   "metadata": {},
   "source": [
    "## Pledge\n",
    "\n",
    "By submitting this work I hereby pledge that this is my own, personal work. I've acknowledged in the designated place at the top of this file all sources that I used to complete said work, including but not limited to: online resources, books, and electronic communications. I've noted all collaboration with fellow students and/or TA's. I did not copy or plagiarize another's work.\n",
    "\n",
    "> As a Boilermaker pursuing academic excellence, I pledge to be honest and true in all that I do. Accountable together – We are Purdue."
   ]
  }
 ],
 "metadata": {
  "kernelspec": {
   "display_name": "seminar",
   "language": "python",
   "name": "seminar"
  },
  "language_info": {
   "codemirror_mode": {
    "name": "ipython",
    "version": 3
   },
   "file_extension": ".py",
   "mimetype": "text/x-python",
   "name": "python",
   "nbconvert_exporter": "python",
   "pygments_lexer": "ipython3",
   "version": "3.11.5"
  }
 },
 "nbformat": 4,
 "nbformat_minor": 5
}
